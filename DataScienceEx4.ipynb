{
 "cells": [
  {
   "cell_type": "code",
   "execution_count": null,
   "metadata": {},
   "outputs": [],
   "source": [
    "import pandas as pd\n",
    "import numpy as np\n",
    "import os"
   ]
  },
  {
   "attachments": {},
   "cell_type": "markdown",
   "metadata": {},
   "source": [
    "# Ejemplo de Análisis Exploratorio de Datos\n",
    "\n",
    "## Acerca del dataset:\n",
    "\n",
    "Dataset obtenido de https://www.kaggle.com/datasets/datasnaek/youtube-new bajo licencia CCO: Public Domain.\n",
    "Dichos archivos fueron obtenidos, según el autor, de varios meses de datos sobre videos diarios de tendencias de YouTube. Se incluyen datos para las regiones EE. UU., GB, DE, CA y FR (EE. UU., Gran Bretaña, Alemania, Canadá y Francia, respectivamente), con hasta 200 videos de tendencias listados por día.También incluye datos de las regiones RU, MX, KR, JP e IN (Rusia, México, Corea del Sur, Japón e India, respectivamente) durante el mismo período de tiempo.\n",
    "\n",
    "## Objetivos\n",
    "\n",
    "Plantearemos algunas preguntas sobre el dataset y será nuestra responsabilidad el hacer métodos para obtener respuestas del mismo, a través del análisis de datos. Dichas preguntas son:\n",
    "\n",
    "* ¿Qué características poseen los videos que se hacen tendencia?\n",
    "* ¿Cuál es el sentimiento que despiertan dichos videos por país o zona?\n",
    "* ¿Hay videos que son tendencia en varios países o zonas? ¿De qué tipo?\n",
    "* ¿Cuánto tiempo se mantiene un video como tendencia?\n",
    "\n",
    "## Elaborar un plan\n",
    "\n",
    "Para ejecutar el plan de resolución de dichas tareas deberíamos tener en cuenta otras preguntas:\n",
    "\n",
    "* ¿Está bien definido el objetivo?\n",
    "* ¿Contamos con los datos necesarios para alcanzarlo?\n",
    "* Si no es así, ¿Dónde está el faltante,en los datos o en nuestro conocimiento?\n",
    "\n",
    "## Metadatos\n",
    "\n",
    "Es una buena práctica trabajar con standares para nuestros datos. Así trataremos de que nuestros recursos de alineen con lo establecido por la Dublin Core MetaData Iniciative. Así nuestros datos deberán contar con el conjunto básico de: contribuyente, cobertura, creador, fecha, descripción, formato, identificador, idioma, etc.\n",
    "\n",
    "Hay que categorizar el tipo de datos como numéricos, alfanuméricos, categóricos y de fecha.\n",
    "\n",
    "En ésta última por ejemplo será necesario standarizarla a ISO-8601.\n"
   ]
  }
 ],
 "metadata": {
  "language_info": {
   "name": "python"
  },
  "orig_nbformat": 4
 },
 "nbformat": 4,
 "nbformat_minor": 2
}
